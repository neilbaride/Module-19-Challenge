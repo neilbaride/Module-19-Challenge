{
 "cells": [
  {
   "cell_type": "code",
   "execution_count": 1,
   "metadata": {},
   "outputs": [],
   "source": [
    "# Imports\n",
    "import streamlit as st\n",
    "from dataclasses import dataclass\n",
    "from typing import Any, List\n",
    "from web3 import Web3\n",
    "\n",
    "w3 = Web3(Web3.HTTPProvider(\"HTTP://127.0.0.1:7545\"))"
   ]
  },
  {
   "cell_type": "code",
   "execution_count": 2,
   "metadata": {},
   "outputs": [],
   "source": [
    "# Imports\n",
    "import os\n",
    "import requests\n",
    "from dotenv import load_dotenv\n",
    "\n",
    "load_dotenv()\n",
    "from bip44 import Wallet\n",
    "from web3 import Account\n",
    "from web3 import middleware\n",
    "from web3.gas_strategies.time_based import medium_gas_price_strategy"
   ]
  },
  {
   "cell_type": "code",
   "execution_count": 5,
   "metadata": {},
   "outputs": [],
   "source": [
    "MNEMONIC = 'YOUR MNEMONIC SEED PHRASE HERE'\n"
   ]
  },
  {
   "cell_type": "code",
   "execution_count": 6,
   "metadata": {},
   "outputs": [],
   "source": [
    "# Wallet functionality\n",
    "\n",
    "\n",
    "def generate_account():\n",
    "    \"\"\"Create a digital wallet and Ethereum account from a mnemonic seed phrase.\"\"\"\n",
    "    # Fetch mnemonic from environment variable.\n",
    "    mnemonic = os.getenv(\"MNEMONIC\")\n",
    "\n",
    "    # Create Wallet Object\n",
    "    wallet = Wallet(mnemonic)\n",
    "\n",
    "    # Derive Ethereum Private Key\n",
    "    private, public = wallet.derive_account(\"eth\")\n",
    "\n",
    "    # Convert private key into an Ethereum account\n",
    "    account = Account.privateKeyToAccount(private)\n",
    "\n",
    "    return account\n",
    "\n",
    "\n",
    "def get_balance(w3, address):\n",
    "    \"\"\"Using an Ethereum account address access the balance of Ether\"\"\"\n",
    "    # Get balance of address in Wei\n",
    "    wei_balance = w3.eth.get_balance(address)\n",
    "\n",
    "    # Convert Wei value to ether\n",
    "    ether = w3.fromWei(wei_balance, \"ether\")\n",
    "\n",
    "    # Return the value in ether\n",
    "    return ether\n",
    "\n",
    "\n",
    "def send_transaction(w3, account, to, wage):\n",
    "    \"\"\"Send an authorized transaction to the Ganache blockchain.\"\"\"\n",
    "    # Set gas price strategy\n",
    "    w3.eth.setGasPriceStrategy(medium_gas_price_strategy)\n",
    "\n",
    "    # Convert eth amount to Wei\n",
    "    value = w3.toWei(wage, \"ether\")\n",
    "\n",
    "    # Calculate gas estimate\n",
    "    gasEstimate = w3.eth.estimateGas(\n",
    "        {\"to\": to, \"from\": account.address, \"value\": value}\n",
    "    )\n",
    "\n",
    "    # Construct a raw transaction\n",
    "    raw_tx = {\n",
    "        \"to\": to,\n",
    "        \"from\": account.address,\n",
    "        \"value\": value,\n",
    "        \"gas\": gasEstimate,\n",
    "        \"gasPrice\": 0,\n",
    "        \"nonce\": w3.eth.getTransactionCount(account.address),\n",
    "    }\n",
    "\n",
    "    # Sign the raw transaction with ethereum account\n",
    "    signed_tx = account.signTransaction(raw_tx)\n",
    "\n",
    "    # Send the signed transactions\n",
    "    return w3.eth.sendRawTransaction(signed_tx.rawTransaction)\n"
   ]
  },
  {
   "cell_type": "code",
   "execution_count": 7,
   "metadata": {},
   "outputs": [],
   "source": [
    "# Importing the necessary functions from crypto_wallet.py\n",
    "from crypto_wallet import generate_account, get_balance, send_transaction\n"
   ]
  },
  {
   "cell_type": "code",
   "execution_count": 8,
   "metadata": {},
   "outputs": [
    {
     "name": "stderr",
     "output_type": "stream",
     "text": [
      "2024-02-01 11:50:55.604 \n",
      "  \u001b[33m\u001b[1mWarning:\u001b[0m to view this Streamlit app on a browser, run it with the following\n",
      "  command:\n",
      "\n",
      "    streamlit run /Users/neilbaride/Library/Python/3.11/lib/python/site-packages/ipykernel_launcher.py [ARGUMENTS]\n"
     ]
    },
    {
     "data": {
      "text/plain": [
       "DeltaGenerator()"
      ]
     },
     "execution_count": 8,
     "metadata": {},
     "output_type": "execute_result"
    }
   ],
   "source": [
    "# Streamlit Code\n",
    "\n",
    "# Streamlit application headings\n",
    "st.markdown(\"# KryptoJobs2Go!\")\n",
    "st.markdown(\"## Hire A Fintech Professional!\")\n",
    "st.text(\" \\n\")"
   ]
  },
  {
   "cell_type": "code",
   "execution_count": 9,
   "metadata": {},
   "outputs": [
    {
     "data": {
      "text/plain": [
       "DeltaGenerator(_root_container=1, _parent=DeltaGenerator())"
      ]
     },
     "execution_count": 9,
     "metadata": {},
     "output_type": "execute_result"
    }
   ],
   "source": [
    "# Streamlit Sidebar Code - Start\n",
    "\n",
    "st.sidebar.markdown(\"## Client Account Address and Ethernet Balance in Ether\")"
   ]
  },
  {
   "cell_type": "code",
   "execution_count": 10,
   "metadata": {},
   "outputs": [],
   "source": [
    "# KryptoJobs2Go Candidate Information\n",
    "\n",
    "# Database of KryptoJobs2Go candidates including their name, digital address, rating and hourly cost per Ether.\n",
    "# A single Ether is currently valued at $1,500\n",
    "candidate_database = {\n",
    "    \"Lane\": [\n",
    "        \"Lane\",\n",
    "        \"0xaC8eB8B2ed5C4a0fC41a84Ee4950F417f67029F0\",\n",
    "        \"4.3\",\n",
    "        0.20,\n",
    "        \"Images/lane.jpeg\",\n",
    "    ],\n",
    "    \"Ash\": [\n",
    "        \"Ash\",\n",
    "        \"0x2422858F9C4480c2724A309D58Ffd7Ac8bF65396\",\n",
    "        \"5.0\",\n",
    "        0.33,\n",
    "        \"Images/ash.jpeg\",\n",
    "    ],\n",
    "    \"Jo\": [\n",
    "        \"Jo\",\n",
    "        \"0x8fD00f170FDf3772C5ebdCD90bF257316c69BA45\",\n",
    "        \"4.7\",\n",
    "        0.19,\n",
    "        \"Images/jo.jpeg\",\n",
    "    ],\n",
    "    \"Kendall\": [\n",
    "        \"Kendall\",\n",
    "        \"0x8fD00f170FDf3772C5ebdCD90bF257316c69BA45\",\n",
    "        \"4.1\",\n",
    "        0.16,\n",
    "        \"Images/kendall.jpeg\",\n",
    "    ],\n",
    "}\n",
    "\n",
    "# A list of the KryptoJobs2Go candidates first names\n",
    "people = [\"Lane\", \"Ash\", \"Jo\", \"Kendall\"]\n",
    "\n",
    "\n",
    "def get_people():\n",
    "    \"\"\"Display the database of KryptoJobs2Go candidate information.\"\"\"\n",
    "    db_list = list(candidate_database.values())\n",
    "\n",
    "    for number in range(len(people)):\n",
    "        st.image(db_list[number][4], width=200)\n",
    "        st.write(\"Name: \", db_list[number][0])\n",
    "        st.write(\"Ethereum Account Address: \", db_list[number][1])\n",
    "        st.write(\"KryptoJobs2Go Rating: \", db_list[number][2])\n",
    "        st.write(\"Hourly Rate per Ether: \", db_list[number][3], \"eth\")\n",
    "        st.text(\" \\n\")"
   ]
  },
  {
   "cell_type": "code",
   "execution_count": 12,
   "metadata": {},
   "outputs": [
    {
     "data": {
      "text/plain": [
       "DeltaGenerator(_root_container=1, _parent=DeltaGenerator())"
      ]
     },
     "execution_count": 12,
     "metadata": {},
     "output_type": "execute_result"
    }
   ],
   "source": [
    "# Create a select box to chose a FinTech Hire candidate\n",
    "person = st.sidebar.selectbox(\"Select a Person\", people)\n",
    "\n",
    "# Create a input field to record the number of hours the candidate worked\n",
    "hours = st.sidebar.number_input(\"Number of Hours\")\n",
    "\n",
    "st.sidebar.markdown(\"## Candidate Name, Hourly Rate, and Ethereum Address\")\n",
    "\n",
    "# Identify the FinTech Hire candidate\n",
    "candidate = candidate_database[person][0]\n",
    "\n",
    "# Write the KryptoJobs2Go candidate's name to the sidebar\n",
    "st.sidebar.write(candidate)\n",
    "\n",
    "# Identify the KryptoJobs2Go candidate's hourly rate\n",
    "hourly_rate = candidate_database[person][3]\n",
    "\n",
    "# Write the inTech Finder candidate's hourly rate to the sidebar\n",
    "st.sidebar.write(hourly_rate)\n",
    "\n",
    "# Identify the KryptoJobs2Go candidate's Ethereum Address\n",
    "candidate_address = candidate_database[person][1]\n",
    "\n",
    "# Write the inTech Finder candidate's Ethereum Address to the sidebar\n",
    "st.sidebar.write(candidate_address)\n",
    "\n",
    "# Write the KryptoJobs2Go candidate's name to the sidebar\n",
    "\n",
    "st.sidebar.markdown(\"## Total Wage in Ether\")"
   ]
  },
  {
   "cell_type": "code",
   "execution_count": 13,
   "metadata": {},
   "outputs": [],
   "source": [
    "wage = candidate_database[person][3] * hours"
   ]
  },
  {
   "cell_type": "code",
   "execution_count": 14,
   "metadata": {},
   "outputs": [],
   "source": [
    "st.sidebar.write(\"Total Wage in Ether:\", wage, \"ETH\")"
   ]
  },
  {
   "cell_type": "code",
   "execution_count": 16,
   "metadata": {},
   "outputs": [],
   "source": [
    "if st.sidebar.button(\"Send Transaction\"):\n",
    "    \n",
    "    # Your `account`, the `candidate_address`, and the `wage` as parameters\n",
    "    transaction_hash = send_transaction(w3, account, candidate_address, wage)\n",
    "\n",
    "    # Markdown for the transaction hash\n",
    "    st.sidebar.markdown(\"#### Validated Transaction Hash\")\n",
    "\n",
    "    # Write the returned transaction hash to the screen\n",
    "    st.sidebar.write(transaction_hash)\n",
    "\n",
    "    # Celebrate your successful payment\n",
    "    st.balloons()\n",
    "\n",
    "#  Streamlit application\n",
    "get_people()\n"
   ]
  }
 ],
 "metadata": {
  "kernelspec": {
   "display_name": "Python 3",
   "language": "python",
   "name": "python3"
  },
  "language_info": {
   "codemirror_mode": {
    "name": "ipython",
    "version": 3
   },
   "file_extension": ".py",
   "mimetype": "text/x-python",
   "name": "python",
   "nbconvert_exporter": "python",
   "pygments_lexer": "ipython3",
   "version": "3.11.1"
  }
 },
 "nbformat": 4,
 "nbformat_minor": 4
}
